{
 "cells": [
  {
   "cell_type": "markdown",
   "id": "065a6021-9016-42db-9648-8e37d1654ac4",
   "metadata": {},
   "source": [
    "# Interactive Plotting of Seismic Data Amplitude Spectrum\n",
    "## Taking Fourier Transform to plot amplitude spectrum of 1D/2D/3D post-stack seismic data in sgy/segy format \n",
    "### Author: Amir Abbas Babasafari (AB) \n",
    "### Date: April 2024\n",
    "### Email: a.babasafari@yahoo.com\n",
    "### IDE: Jupyter Notebook\n",
    "### Python version: 3.9"
   ]
  },
  {
   "cell_type": "markdown",
   "id": "5f7380a9-1d23-4906-914a-011169e799c0",
   "metadata": {},
   "source": [
    "### *Please make sure that data loaded is post-stack seismic data, pre-stack is not supported\n",
    "### *Supported Data Format: 4-byte IBM float and 4-byte IEEE float"
   ]
  },
  {
   "cell_type": "markdown",
   "id": "5e6ffd3b-5cd1-445b-8da4-3cbcc7dd1e7f",
   "metadata": {},
   "source": [
    "#####"
   ]
  },
  {
   "cell_type": "markdown",
   "id": "539e6ee3-5367-4843-b01c-58d7e3dc2c5a",
   "metadata": {},
   "source": [
    "### Hint: In the Kernel menu, select 'Restart kernel and run all cells' if using the default values, otherwise you may specify smooth_factor and trace_skip_number in the following cells."
   ]
  },
  {
   "cell_type": "markdown",
   "id": "ab13025a-c9c5-4f8d-bdf2-05ba5f2f7efc",
   "metadata": {},
   "source": [
    "#####"
   ]
  },
  {
   "cell_type": "markdown",
   "id": "8a1e313d-54b1-445c-83d9-af592fe574cc",
   "metadata": {},
   "source": [
    "### Import Libraries\n",
    "#### Please run the cell below"
   ]
  },
  {
   "cell_type": "code",
   "execution_count": 1,
   "id": "c553fe5d-7b8e-4879-b322-100c685a2671",
   "metadata": {},
   "outputs": [],
   "source": [
    "import os\n",
    "import sys\n",
    "import numpy as np\n",
    "import segyio \n",
    "from matplotlib import pyplot as plt\n",
    "from tkinter import *\n",
    "from tkinter import filedialog\n",
    "import ipywidgets as widgets\n",
    "from ipywidgets import interact"
   ]
  },
  {
   "cell_type": "markdown",
   "id": "da16347f-d771-4e2e-808a-4382ef872c0a",
   "metadata": {},
   "source": [
    "### Load a sgy/segy file"
   ]
  },
  {
   "cell_type": "markdown",
   "id": "76b57785-798f-40aa-bc3d-e5c5024e82e7",
   "metadata": {},
   "source": [
    "#### Please run the cell below, click on 'open a file' button on pop-up window to select your seismic data in segy/sgy format, followed by clicking on the 'close the window' button."
   ]
  },
  {
   "cell_type": "code",
   "execution_count": 2,
   "id": "476e5479-a5b2-4178-8c01-36c937973c90",
   "metadata": {},
   "outputs": [
    {
     "name": "stdout",
     "output_type": "stream",
     "text": [
      "File_path: E:/AB_2023/Visualization/Data for test plus bri data/seismic_segy/Seismic_open_data/3D-Waipuku.sgy\n"
     ]
    }
   ],
   "source": [
    "def load_segy_file():\n",
    "    '''\n",
    "    Function to load a segy file\n",
    "    \n",
    "    Return file path of loaded segy file\n",
    "    '''\n",
    "    \n",
    "    global filepath\n",
    "    \n",
    "    # Open file name\n",
    "    file = filedialog.askopenfilename(initialdir = os.getcwd(),\n",
    "    title = \"Please select 2D/3D post-stack seismic data in segy format\",\n",
    "    filetypes = [('sgy files','*.sgy'),('segy files','*.segy'),('All files','*.*')])\n",
    "    filepath = file\n",
    "    print(\"File_path: {0}\".format(filepath))\n",
    "    \n",
    "# Create root window\n",
    "root = Tk()\n",
    "root.geometry('300x200')  \n",
    "root.title('AB')\n",
    "\n",
    "# Open button to click in a GUI toolkit\n",
    "open_button1 = Button(root, text = \"Open a File\", command = load_segy_file)\n",
    "open_button2 = Button(root, text = \"Close the Window\", command = root.destroy)\n",
    "open_button1.pack()\n",
    "open_button2.pack()\n",
    "\n",
    "# Run the application\n",
    "root.mainloop()"
   ]
  },
  {
   "cell_type": "markdown",
   "id": "ffc021d8-7a0b-466c-8890-c42348eeb24e",
   "metadata": {},
   "source": [
    "## Read 1D/2D/3D post-stack seismic data, identify seismic data parameters, and calculate amplitude spectrum\n",
    "#### Please run the cell below"
   ]
  },
  {
   "cell_type": "code",
   "execution_count": 3,
   "id": "c27794c9-2c00-4174-9a7b-d83edcc7b20e",
   "metadata": {},
   "outputs": [],
   "source": [
    "def calculate_mean_amplitude_spectrum(filepath, kernel_length, skip_no):\n",
    "    \"\"\"   \n",
    "    Function to read, identify seismic data parameters, and calculate amplitude spectrum\n",
    "    \n",
    "    Parameter:\n",
    "    ----------\n",
    "    filepath (str): file path of loaded segy file\n",
    "    kernel_length (int): smoothing factor for plotting amplitude spectrum\n",
    "    skip_no (int): number of traces to skip for calculating amplitude spectrum\n",
    "    \n",
    "    Returns:\n",
    "    --------\n",
    "    interpolated_frequency_axis (numpy.ndarray): Frequency axis of amplitude spectrum upto nyquist frequency in HZ\n",
    "    normalized_mean_spectrum (numpy.ndarray): Normalized mean amplitude spectrum \n",
    "    amplitude_spectrum (numpy.ndarray): Normalized amplitude spectrum per selected seismic trace\n",
    "\n",
    "    Author: Amir Abbas Babasafari (AB)\n",
    "    \"\"\"\n",
    "    \n",
    "    # Read segy data and identify data parameters\n",
    "    try:\n",
    "        with segyio.open(filepath, ignore_geometry=True) as f:\n",
    "            # Get the attributes\n",
    "            n_traces = f.tracecount\n",
    "            # sample rate = 2 ms or 4 ms\n",
    "            sample_rate = segyio.tools.dt(f) / 1000\n",
    "            n_samples = f.samples.size\n",
    "            twt = f.samples\n",
    "            seismic_data = f.trace.raw[:].T \n",
    "            spec = segyio.spec()\n",
    "            data_format = f.format\n",
    "            # print(f.bin)\n",
    "            print(\"Seismic data parameters: \\n Total number of traces: {0}, Every {1} traces, Number of samples per trace: {2}, \\n \\\n",
    "            Sample rate: {3}ms, Trace length: {4}ms, Data format: {5}\" .format(n_traces, skip_no, n_samples, sample_rate, max(twt) - min(twt), data_format))\n",
    "\n",
    "    except:\n",
    "        print(\"Error, seismic data was not loaded successfully, this could happen due to unsupported data format\") \n",
    "        print(\"Data format 4-byte IBM float and 4-byte IEEE float are supported\")\n",
    "        print('In addition, please check that data loaded is post-stack seismic data, pre-stack is not supported')\n",
    "\n",
    "    \n",
    "    if seismic_data.shape[1] > 1 and seismic_data.shape[1] > skip_no: \n",
    "        traces = seismic_data[:,::skip_no]\n",
    "    else:\n",
    "        traces = seismic_data\n",
    "    \n",
    "        \n",
    "    # Define sample rate and nyquist frequency\n",
    "    sample_rate = sample_rate * 1e-3\n",
    "    nyquist_frequency = int(1 / (2 * sample_rate))\n",
    "\n",
    "    # Initialize list of zero trace index    \n",
    "    zero_trace_index = [] \n",
    "    \n",
    "    # Calculate zero trace index and exclude zero traces from seismic data\n",
    "    for ind in range(traces.shape[1]):\n",
    "        if np.any(traces[:,ind]) == 0.0 or np.any(traces[:,ind]) == None:\n",
    "            zero_trace_index.append(ind)\n",
    "    traces = np.delete(traces, zero_trace_index, 1)\n",
    "    \n",
    "    # Initialize amplitude based on nyquist frequency\n",
    "    amplitude_spectrum_for_mean = np.empty(shape=(nyquist_frequency, traces.shape[1]))\n",
    "    amplitude_spectrum = np.empty(shape=(nyquist_frequency, traces.shape[1]))\n",
    "\n",
    "    # Calculate amplitude spectrum using fourier transform\n",
    "    for i in range(traces.shape[1]):\n",
    "\n",
    "        n_sample = len(traces[:,i])\n",
    "        spectrum = np.fft.fft(traces[:,i] / n_sample)\n",
    "        frequency = np.fft.fftfreq(n_sample)\n",
    "        \n",
    "        # Display positive frequency content with corresponding absolute and real amplitude\n",
    "        spectrum_real = abs(spectrum[:int(n_sample / 2)].real)\n",
    "        # scale frequency axis wih Nyquist frequency for positive axis only\n",
    "        frequency_axis = frequency[:int(n_sample / 2)] * (1 / sample_rate)\n",
    "\n",
    "        # Interpolate spectrum_real and freq_axis\n",
    "        interpolated_frequency_axis = np.arange(0, nyquist_frequency, 1)\n",
    "        interpolated_spectrum_real = np.interp(interpolated_frequency_axis, frequency_axis, spectrum_real)\n",
    "\n",
    "        # Smooth the amplitude spectrum if needed\n",
    "        kernel = np.ones(kernel_length) / kernel_length\n",
    "        smooth_spectrum = np.convolve(interpolated_spectrum_real, kernel, mode='same')\n",
    "\n",
    "        amplitude_spectrum_for_mean[:,i] = smooth_spectrum\n",
    "\n",
    "        # Normalize the amplitude spectrum \n",
    "        normalized_spectrum = (smooth_spectrum-min(smooth_spectrum))\\\n",
    "        /(max(smooth_spectrum)-min(smooth_spectrum))\n",
    "\n",
    "        amplitude_spectrum[:,i] = normalized_spectrum\n",
    "\n",
    "    # Calculate average of amplitude spectrum for all selected traces\n",
    "    mean_spectrum = np.mean(amplitude_spectrum_for_mean, axis=1) \n",
    "    # Normalize the average amplitude spectrum \n",
    "    normalized_mean_spectrum = (mean_spectrum-min(mean_spectrum))/(max(mean_spectrum)-min(mean_spectrum))\n",
    "    \n",
    "    \n",
    "    return interpolated_frequency_axis, normalized_mean_spectrum, amplitude_spectrum"
   ]
  },
  {
   "cell_type": "markdown",
   "id": "58c5beaa-7227-4833-a263-b4419398ac71",
   "metadata": {},
   "source": [
    "## Plot amplitude spectrum\n",
    "#### Please run the cell below"
   ]
  },
  {
   "cell_type": "code",
   "execution_count": 4,
   "id": "881a203d-6857-4d34-a468-5a7e8a48749e",
   "metadata": {},
   "outputs": [],
   "source": [
    "def plot_amplitude_spectrum(spectrum, mode='mean'):    \n",
    "    '''\n",
    "    Function to plot amplitude spectrum \n",
    "    '''\n",
    "    \n",
    "    if mode == 'mean':\n",
    "        cmap = 'orange'\n",
    "        lbl = 'mean amplitude spectrum'\n",
    "    else:\n",
    "        cmap = 'blue'\n",
    "        lbl = 'amplitude spectrum'\n",
    "\n",
    "    plt.plot(interpolated_frequency_axis, spectrum, color = cmap, \\\n",
    "             label = lbl, linestyle='solid', linewidth = 3)\n",
    "    plt.xlabel('Frequency (HZ)')\n",
    "    plt.ylabel('Normalized Amplitude')\n",
    "    plt.title(\"Amplitude Spectrum upto Nyquist Frequency \\n Seismic file name: {0}\".format(os.path.splitext(os.path.basename(filepath))[0]))\n",
    "    plt.legend()\n",
    "    plt.grid(True)\n",
    "    plt.show()"
   ]
  },
  {
   "cell_type": "markdown",
   "id": "48800c50-32b7-46ed-b560-297f1cd7de53",
   "metadata": {},
   "source": [
    "####"
   ]
  },
  {
   "cell_type": "markdown",
   "id": "0fda53f9-e76b-42a2-9b81-27016257fe13",
   "metadata": {},
   "source": [
    "### Please specify parameters below or use the default values and run the cells below"
   ]
  },
  {
   "cell_type": "code",
   "execution_count": 5,
   "id": "aa196541-a53c-4685-887f-9b8ae08e6a93",
   "metadata": {},
   "outputs": [
    {
     "name": "stdout",
     "output_type": "stream",
     "text": [
      "Seismic data parameters: \n",
      " Total number of traces: 46176, Every 2000 traces, Number of samples per trace: 2001, \n",
      "             Sample rate: 2.0ms, Trace length: 4000.0ms, Data format: 4-byte IBM float\n"
     ]
    }
   ],
   "source": [
    "# smoothing factor for plotting amplitude spectrum\n",
    "smooth_factor = 2\n",
    "\n",
    "# number of traces to skip for calculating amplitude spectrum\n",
    "trace_skip_number = 2000\n",
    "\n",
    "# calculate amplitude spectrum\n",
    "interpolated_frequency_axis, normalized_mean_spectrum, seismic_amplitude_spectrum = calculate_mean_amplitude_spectrum(filepath, kernel_length = smooth_factor, skip_no = trace_skip_number)"
   ]
  },
  {
   "cell_type": "markdown",
   "id": "b2a07be5-361a-4491-bbef-e2de5714a899",
   "metadata": {},
   "source": [
    "### Interactive Plotting of the Amplitude Spectrum for the Selected Seismic Traces\n",
    "#### Please run the cell below"
   ]
  },
  {
   "cell_type": "code",
   "execution_count": 8,
   "id": "c0a8b459-3e57-455e-8f06-6d2ee0b27a02",
   "metadata": {},
   "outputs": [
    {
     "data": {
      "application/vnd.jupyter.widget-view+json": {
       "model_id": "36851ac8f373420f91b085b32f9a0f31",
       "version_major": 2,
       "version_minor": 0
      },
      "text/plain": [
       "interactive(children=(IntSlider(value=9, description='trace', max=17), Output()), _dom_classes=('widget-intera…"
      ]
     },
     "metadata": {},
     "output_type": "display_data"
    }
   ],
   "source": [
    "traces = np.arange(seismic_amplitude_spectrum.shape[1])\n",
    "mid = int(seismic_amplitude_spectrum.shape[1]/2)\n",
    "@interact(trace=widgets.IntSlider(min=traces[0], max=traces[-1], step=1, value=mid))\n",
    "\n",
    "def interactive_amplitude_spectrum(trace):    \n",
    "    plot_amplitude_spectrum(seismic_amplitude_spectrum[:,trace], mode='interactive')\n"
   ]
  },
  {
   "cell_type": "markdown",
   "id": "1389e148-9e6f-49c9-8176-25200643b7d4",
   "metadata": {},
   "source": [
    "### Plot Mean Amplitude Spectrum\n",
    "#### Please run the cell below"
   ]
  },
  {
   "cell_type": "code",
   "execution_count": 7,
   "id": "17b91aba-2d9f-4eee-b49b-b872ebd3e742",
   "metadata": {},
   "outputs": [
    {
     "data": {
      "image/png": "[encoded data removed]",
      "text/plain": [
       "<Figure size 640x480 with 1 Axes>"
      ]
     },
     "metadata": {},
     "output_type": "display_data"
    }
   ],
   "source": [
    "plot_amplitude_spectrum(normalized_mean_spectrum, mode='mean')    "
   ]
  },
  {
   "cell_type": "markdown",
   "id": "8f14aac6-7311-41c2-915d-65c86c80a4c7",
   "metadata": {},
   "source": [
    "### Thank you for your attention"
   ]
  },
  {
   "cell_type": "markdown",
   "id": "14d52ca3-aace-4c8e-ba2e-316ab999936c",
   "metadata": {},
   "source": [
    "##### AB"
   ]
  }
 ],
 "metadata": {
  "kernelspec": {
   "display_name": "Python 3 (ipykernel)",
   "language": "python",
   "name": "python3"
  },
  "language_info": {
   "codemirror_mode": {
    "name": "ipython",
    "version": 3
   },
   "file_extension": ".py",
   "mimetype": "text/x-python",
   "name": "python",
   "nbconvert_exporter": "python",
   "pygments_lexer": "ipython3",
   "version": "3.9.1"
  }
 },
 "nbformat": 4,
 "nbformat_minor": 5
}
